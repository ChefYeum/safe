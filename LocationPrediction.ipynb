{
 "cells": [
  {
   "cell_type": "code",
   "execution_count": 10,
   "metadata": {},
   "outputs": [],
   "source": [
    "import pandas as pd\n",
    "import numpy as np\n",
    "import requests\n",
    "import json\n",
    "import matplotlib"
   ]
  },
  {
   "cell_type": "code",
   "execution_count": 4,
   "metadata": {},
   "outputs": [
    {
     "name": "stdout",
     "output_type": "stream",
     "text": [
      "[{'time': 1567894924872, 'location': {'_latitude': '39.95791709239022', '_longitude': '-75.2024651999179'}}, {'time': 1567895181445, 'location': {'_latitude': '39.9549936922459', '_longitude': '-75.18311094320366'}}, {'location': {'_latitude': '39.95406149682866', '_longitude': '-75.18951212968872'}, 'time': 1567894917662}, {'location': {'_latitude': '39.95259833333333', '_longitude': '-75.16519833333334'}, 'time': 1567897641359}, {'time': 1567898051277, 'location': {'_latitude': '39.95635330594706', '_longitude': '-75.17059126923732'}}, {'location': {'_latitude': '39.956170914699186', '_longitude': '-75.18939345099731'}, 'time': 1567894919457}, {'location': {'_latitude': '39.95635330594706', '_longitude': '-75.17059126923732'}, 'time': 1567898051366}, {'time': 1567894923179, 'location': {'_latitude': '39.957501100714246', '_longitude': '-75.19744180958597'}}, {'location': {'_latitude': '39.95607812047661', '_longitude': '-75.1931172930985'}, 'time': 1567894921250}, {'location': {'_latitude': '39.95129615042649', '_longitude': '-75.19274032486858'}, 'time': 1567897246041}, {'location': {'_latitude': '39.95860789526624', '_longitude': '-75.20686568429903'}, 'time': 1567894926934}, {'time': 1567895181477, 'location': {'_latitude': '39.9549936922459', '_longitude': '-75.18311094320366'}}, {'location': {'_latitude': '39.95129615042649', '_longitude': '-75.19274032486858'}, 'time': 1567897246018}, {'location': {'_latitude': '39.95259833333333', '_longitude': '-75.16519833333334'}, 'time': 1567897641325}]\n"
     ]
    }
   ],
   "source": [
    "r = requests.get('https://us-central1-safe-21981.cloudfunctions.net/events')\n",
    "body_json = r.json()\n",
    "\n",
    "points = body_json['points']\n",
    "print(points)"
   ]
  },
  {
   "cell_type": "code",
   "execution_count": 5,
   "metadata": {},
   "outputs": [],
   "source": [
    "points_list = []\n",
    "\n",
    "for p in points:\n",
    "    p_flat = []\n",
    "    p_flat.append(\n",
    "        float(p['location']['_latitude'])\n",
    "    )\n",
    "    p_flat.append(\n",
    "        float(p['location']['_longitude'])\n",
    "    )\n",
    "    p_flat.append(\n",
    "        int(p['time'])\n",
    "    )\n",
    "    points_list.append(p_flat)"
   ]
  },
  {
   "cell_type": "code",
   "execution_count": 6,
   "metadata": {},
   "outputs": [
    {
     "data": {
      "text/html": [
       "<div>\n",
       "<style scoped>\n",
       "    .dataframe tbody tr th:only-of-type {\n",
       "        vertical-align: middle;\n",
       "    }\n",
       "\n",
       "    .dataframe tbody tr th {\n",
       "        vertical-align: top;\n",
       "    }\n",
       "\n",
       "    .dataframe thead th {\n",
       "        text-align: right;\n",
       "    }\n",
       "</style>\n",
       "<table border=\"1\" class=\"dataframe\">\n",
       "  <thead>\n",
       "    <tr style=\"text-align: right;\">\n",
       "      <th></th>\n",
       "      <th>Lat</th>\n",
       "      <th>Lng</th>\n",
       "      <th>Time</th>\n",
       "    </tr>\n",
       "  </thead>\n",
       "  <tbody>\n",
       "    <tr>\n",
       "      <td>0</td>\n",
       "      <td>39.957917</td>\n",
       "      <td>-75.202465</td>\n",
       "      <td>1567894924872</td>\n",
       "    </tr>\n",
       "    <tr>\n",
       "      <td>1</td>\n",
       "      <td>39.954994</td>\n",
       "      <td>-75.183111</td>\n",
       "      <td>1567895181445</td>\n",
       "    </tr>\n",
       "    <tr>\n",
       "      <td>2</td>\n",
       "      <td>39.954061</td>\n",
       "      <td>-75.189512</td>\n",
       "      <td>1567894917662</td>\n",
       "    </tr>\n",
       "    <tr>\n",
       "      <td>3</td>\n",
       "      <td>39.952598</td>\n",
       "      <td>-75.165198</td>\n",
       "      <td>1567897641359</td>\n",
       "    </tr>\n",
       "    <tr>\n",
       "      <td>4</td>\n",
       "      <td>39.956353</td>\n",
       "      <td>-75.170591</td>\n",
       "      <td>1567898051277</td>\n",
       "    </tr>\n",
       "    <tr>\n",
       "      <td>5</td>\n",
       "      <td>39.956171</td>\n",
       "      <td>-75.189393</td>\n",
       "      <td>1567894919457</td>\n",
       "    </tr>\n",
       "    <tr>\n",
       "      <td>6</td>\n",
       "      <td>39.956353</td>\n",
       "      <td>-75.170591</td>\n",
       "      <td>1567898051366</td>\n",
       "    </tr>\n",
       "    <tr>\n",
       "      <td>7</td>\n",
       "      <td>39.957501</td>\n",
       "      <td>-75.197442</td>\n",
       "      <td>1567894923179</td>\n",
       "    </tr>\n",
       "    <tr>\n",
       "      <td>8</td>\n",
       "      <td>39.956078</td>\n",
       "      <td>-75.193117</td>\n",
       "      <td>1567894921250</td>\n",
       "    </tr>\n",
       "    <tr>\n",
       "      <td>9</td>\n",
       "      <td>39.951296</td>\n",
       "      <td>-75.192740</td>\n",
       "      <td>1567897246041</td>\n",
       "    </tr>\n",
       "    <tr>\n",
       "      <td>10</td>\n",
       "      <td>39.958608</td>\n",
       "      <td>-75.206866</td>\n",
       "      <td>1567894926934</td>\n",
       "    </tr>\n",
       "    <tr>\n",
       "      <td>11</td>\n",
       "      <td>39.954994</td>\n",
       "      <td>-75.183111</td>\n",
       "      <td>1567895181477</td>\n",
       "    </tr>\n",
       "    <tr>\n",
       "      <td>12</td>\n",
       "      <td>39.951296</td>\n",
       "      <td>-75.192740</td>\n",
       "      <td>1567897246018</td>\n",
       "    </tr>\n",
       "    <tr>\n",
       "      <td>13</td>\n",
       "      <td>39.952598</td>\n",
       "      <td>-75.165198</td>\n",
       "      <td>1567897641325</td>\n",
       "    </tr>\n",
       "  </tbody>\n",
       "</table>\n",
       "</div>"
      ],
      "text/plain": [
       "          Lat        Lng           Time\n",
       "0   39.957917 -75.202465  1567894924872\n",
       "1   39.954994 -75.183111  1567895181445\n",
       "2   39.954061 -75.189512  1567894917662\n",
       "3   39.952598 -75.165198  1567897641359\n",
       "4   39.956353 -75.170591  1567898051277\n",
       "5   39.956171 -75.189393  1567894919457\n",
       "6   39.956353 -75.170591  1567898051366\n",
       "7   39.957501 -75.197442  1567894923179\n",
       "8   39.956078 -75.193117  1567894921250\n",
       "9   39.951296 -75.192740  1567897246041\n",
       "10  39.958608 -75.206866  1567894926934\n",
       "11  39.954994 -75.183111  1567895181477\n",
       "12  39.951296 -75.192740  1567897246018\n",
       "13  39.952598 -75.165198  1567897641325"
      ]
     },
     "execution_count": 6,
     "metadata": {},
     "output_type": "execute_result"
    }
   ],
   "source": [
    "df = pd.DataFrame(points_list)\n",
    "df.columns = ['Lat', \"Lng\", 'Time']\n",
    "df.sort_values('Time')\n",
    "df = df.reset_index(drop=True)\n",
    "df"
   ]
  },
  {
   "cell_type": "code",
   "execution_count": 7,
   "metadata": {},
   "outputs": [
    {
     "data": {
      "text/html": [
       "<div>\n",
       "<style scoped>\n",
       "    .dataframe tbody tr th:only-of-type {\n",
       "        vertical-align: middle;\n",
       "    }\n",
       "\n",
       "    .dataframe tbody tr th {\n",
       "        vertical-align: top;\n",
       "    }\n",
       "\n",
       "    .dataframe thead th {\n",
       "        text-align: right;\n",
       "    }\n",
       "</style>\n",
       "<table border=\"1\" class=\"dataframe\">\n",
       "  <thead>\n",
       "    <tr style=\"text-align: right;\">\n",
       "      <th></th>\n",
       "      <th>Lat</th>\n",
       "      <th>Lng</th>\n",
       "    </tr>\n",
       "  </thead>\n",
       "  <tbody>\n",
       "    <tr>\n",
       "      <td>0</td>\n",
       "      <td>39.957917</td>\n",
       "      <td>-75.202465</td>\n",
       "    </tr>\n",
       "    <tr>\n",
       "      <td>1</td>\n",
       "      <td>39.954994</td>\n",
       "      <td>-75.183111</td>\n",
       "    </tr>\n",
       "    <tr>\n",
       "      <td>2</td>\n",
       "      <td>39.954061</td>\n",
       "      <td>-75.189512</td>\n",
       "    </tr>\n",
       "    <tr>\n",
       "      <td>3</td>\n",
       "      <td>39.952598</td>\n",
       "      <td>-75.165198</td>\n",
       "    </tr>\n",
       "    <tr>\n",
       "      <td>4</td>\n",
       "      <td>39.956353</td>\n",
       "      <td>-75.170591</td>\n",
       "    </tr>\n",
       "    <tr>\n",
       "      <td>5</td>\n",
       "      <td>39.956171</td>\n",
       "      <td>-75.189393</td>\n",
       "    </tr>\n",
       "    <tr>\n",
       "      <td>6</td>\n",
       "      <td>39.956353</td>\n",
       "      <td>-75.170591</td>\n",
       "    </tr>\n",
       "    <tr>\n",
       "      <td>7</td>\n",
       "      <td>39.957501</td>\n",
       "      <td>-75.197442</td>\n",
       "    </tr>\n",
       "    <tr>\n",
       "      <td>8</td>\n",
       "      <td>39.956078</td>\n",
       "      <td>-75.193117</td>\n",
       "    </tr>\n",
       "    <tr>\n",
       "      <td>9</td>\n",
       "      <td>39.951296</td>\n",
       "      <td>-75.192740</td>\n",
       "    </tr>\n",
       "    <tr>\n",
       "      <td>10</td>\n",
       "      <td>39.958608</td>\n",
       "      <td>-75.206866</td>\n",
       "    </tr>\n",
       "    <tr>\n",
       "      <td>11</td>\n",
       "      <td>39.954994</td>\n",
       "      <td>-75.183111</td>\n",
       "    </tr>\n",
       "    <tr>\n",
       "      <td>12</td>\n",
       "      <td>39.951296</td>\n",
       "      <td>-75.192740</td>\n",
       "    </tr>\n",
       "    <tr>\n",
       "      <td>13</td>\n",
       "      <td>39.952598</td>\n",
       "      <td>-75.165198</td>\n",
       "    </tr>\n",
       "  </tbody>\n",
       "</table>\n",
       "</div>"
      ],
      "text/plain": [
       "          Lat        Lng\n",
       "0   39.957917 -75.202465\n",
       "1   39.954994 -75.183111\n",
       "2   39.954061 -75.189512\n",
       "3   39.952598 -75.165198\n",
       "4   39.956353 -75.170591\n",
       "5   39.956171 -75.189393\n",
       "6   39.956353 -75.170591\n",
       "7   39.957501 -75.197442\n",
       "8   39.956078 -75.193117\n",
       "9   39.951296 -75.192740\n",
       "10  39.958608 -75.206866\n",
       "11  39.954994 -75.183111\n",
       "12  39.951296 -75.192740\n",
       "13  39.952598 -75.165198"
      ]
     },
     "execution_count": 7,
     "metadata": {},
     "output_type": "execute_result"
    }
   ],
   "source": [
    "df_coordinates = df.drop(columns=['Time'])\n",
    "df_coordinates"
   ]
  },
  {
   "cell_type": "code",
   "execution_count": 8,
   "metadata": {},
   "outputs": [
    {
     "data": {
      "text/plain": [
       "<matplotlib.axes._subplots.AxesSubplot at 0x11f460150>"
      ]
     },
     "execution_count": 8,
     "metadata": {},
     "output_type": "execute_result"
    }
   ],
   "source": [
    "df_coordinates.plot()"
   ]
  },
  {
   "cell_type": "code",
   "execution_count": 9,
   "metadata": {},
   "outputs": [
    {
     "data": {
      "text/plain": [
       "<matplotlib.axes._subplots.AxesSubplot at 0x12160f750>"
      ]
     },
     "execution_count": 9,
     "metadata": {},
     "output_type": "execute_result"
    },
    {
     "data": {
      "image/png": "[encoded data removed]",
      "text/plain": [
       "<Figure size 432x288 with 1 Axes>"
      ]
     },
     "metadata": {
      "needs_background": "light"
     },
     "output_type": "display_data"
    }
   ],
   "source": [
    "df_coordinates.plot.scatter(x='Lng', y='Lat')"
   ]
  },
  {
   "cell_type": "code",
   "execution_count": null,
   "metadata": {},
   "outputs": [],
   "source": []
  }
 ],
 "metadata": {
  "kernelspec": {
   "display_name": "Python 3",
   "language": "python",
   "name": "python3"
  },
  "language_info": {
   "codemirror_mode": {
    "name": "ipython",
    "version": 3
   },
   "file_extension": ".py",
   "mimetype": "text/x-python",
   "name": "python",
   "nbconvert_exporter": "python",
   "pygments_lexer": "ipython3",
   "version": "3.7.4"
  }
 },
 "nbformat": 4,
 "nbformat_minor": 2
}
